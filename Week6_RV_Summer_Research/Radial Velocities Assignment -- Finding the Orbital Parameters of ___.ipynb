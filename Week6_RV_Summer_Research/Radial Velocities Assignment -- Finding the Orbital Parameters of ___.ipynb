{
 "cells": [
  {
   "cell_type": "markdown",
   "id": "c2cfa925",
   "metadata": {},
   "source": [
    "*Quick note: make sure you have the following packages installed before using this notebook!*"
   ]
  },
  {
   "cell_type": "code",
   "execution_count": 1,
   "id": "2cf681cb",
   "metadata": {},
   "outputs": [],
   "source": [
    "from astropy.stats import LombScargle # for periodograms\n",
    "import corner # for visualizing parameter distributions\n",
    "import numpy as np # for math and data storage\n",
    "import pandas as pd # for math and data storage\n",
    "import matplotlib.pyplot as plt # for plot making\n",
    "import radvel # for fitting RVs\n",
    "from radvel.plot import orbit_plots, mcmc_plots # for visualizing RVs\n",
    "from scipy import optimize # for fitting RVs\n",
    "\n",
    "# this bit below is just to fix an issue with radvel that appears if you're using numpy versions 1.22.0 or later!\n",
    "try:\n",
    "    np.__config__.blas_opt_info = np.__config__.blas_ilp64_opt_info\n",
    "except Exception:\n",
    "    pass"
   ]
  },
  {
   "cell_type": "markdown",
   "id": "570f4671",
   "metadata": {},
   "source": [
    "# Finding the Orbital Parameters of ???\n",
    "\n",
    "Welcome to the Radial Velocities assignment! In this assignment, you're going to be finding the mass (or minimum mass) of a planet from radial velocity measurements from scratch, all on your own.\n",
    "\n",
    "This is a very open-ended assignment, and I'd like you to code it all on your own! You pick the planet, you code it up. That said, I will give some steps (that you don't have to follow but may be helpful):\n",
    "\n",
    "1. Figure out which planet you want to find the orbital parameters of! Not all RV data is good to work with, especially for people still getting used to RVs. Ideally, you find a planet that:\n",
    "- is the only planet in its system (otherwise you'll have two signals! You can model them both if you want a challenge, but you don't need to here.)\n",
    "- is a very massive planet! If you have Earthike planets, the signals start getting too small for RV methods to detect without also having to model things like stellar variability (and trust me -- as someone who struggles to do that as a job, it's tough!)\n",
    "- Around a Sun-like star (really small stars have very high signal semi-amplitudes but have a lot of stellar variability, while really big stars have very small RV semi-amplitudes!\n",
    "- Has RVs from only one instrument, as each instrument may have different offsets or quirks that make them more difficult to model together\n",
    "- Has RVs you can easily download and access yourself!\n",
    "\n",
    "  Here are a few papers containing RVs that satisfy those bullet points! You don't need to use them, but they're here if you'd rather not find a system yourself.\n",
    "- TrES-2 b, with its paper [here](https://iopscience.iop.org/article/10.1086/509123/pdf)\n",
    "- HAT-P-15 b, with its paper [here](https://iopscience.iop.org/article/10.1088/0004-637X/724/2/866)\n",
    "- HD 22532 b, with its paper [here](https://www.aanda.org/articles/aa/full_html/2022/01/aa40078-20/aa40078-20.html)\n",
    "\n",
    "2. Download and read in the data! In some papers (like the HAT-P-15 b paper or the HD 22532 paper), the RVs are available in a downloadable table in the paper. Sometimes, the data is linked through data centers like CDS, or maybe Simbad or Vizier; sometimes, like in the TrES-2 b paper, you just need to copy and paste the table into a .txt file :/ In any case, get the data and read it in. To make sure you know it works, maybe try plotting your RVs as a function of time, with error bars if you can!\n",
    "\n",
    "3. Figure out your priors! Some of these are going to be informed by realistic numbers (e.g. informing that your jitter cannot be negative), while some of these are going to be informed by previous studies. For example, if the paper you're getting your RV data from notes that this planet is transiting, use priors informed by the transits for $P$ and $t_0$! (RVs can figure out those two values to the tune of hours or minutes, but transits can get so much more precise values for those -- down to a fraction of a second in some cases -- that it's worth just using the values of $P$ and $t_0$ from transit fits for your priors.)\n",
    "\n",
    "4. Figure out what values to initialize your parameters to. It's okay to just do this by eye if you don't have better options, but if you have better options use them! For example, it might be worth making your own peridogram to figure out what value to initialize your planet's period to if you don't have transit data.\n",
    "\n",
    "5. Run a simple optimization fit!\n",
    "\n",
    "6. Do an MCMC fit.\n",
    "\n",
    "7. Look at your results! Do they look reasonable? Are they consistent with the results found in the papers you got data from?"
   ]
  },
  {
   "cell_type": "code",
   "execution_count": null,
   "id": "5f31b07d",
   "metadata": {},
   "outputs": [],
   "source": [
    "# TODO: find planet masses!"
   ]
  }
 ],
 "metadata": {
  "kernelspec": {
   "display_name": "Python 3 (ipykernel)",
   "language": "python",
   "name": "python3"
  },
  "language_info": {
   "codemirror_mode": {
    "name": "ipython",
    "version": 3
   },
   "file_extension": ".py",
   "mimetype": "text/x-python",
   "name": "python",
   "nbconvert_exporter": "python",
   "pygments_lexer": "ipython3",
   "version": "3.10.14"
  }
 },
 "nbformat": 4,
 "nbformat_minor": 5
}
