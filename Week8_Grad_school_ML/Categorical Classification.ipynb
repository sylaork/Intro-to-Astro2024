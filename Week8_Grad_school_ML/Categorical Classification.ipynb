{
 "cells": [
  {
   "cell_type": "markdown",
   "id": "b89443cf",
   "metadata": {},
   "source": [
    "# Introduction to Machine Learning in Astronomy: Part 1\n",
    "Written by Aayush Arya (version: Aug 27, 2023)\n",
    "\n",
    "See the accompanying video lecture for the technical background"
   ]
  },
  {
   "cell_type": "markdown",
   "id": "eb777845",
   "metadata": {},
   "source": [
    "![Classification](Classification_Clustering.png)"
   ]
  },
  {
   "cell_type": "markdown",
   "id": "987ecd80",
   "metadata": {},
   "source": [
    "This problem seems trivial, but has a lot of useful lessons to illustrate. \n",
    "\n",
    "The $x$ and $y$ quantities could be phase space coordinates, or color index/magnitude. \n",
    "We know that in a Hertzsprung-Russell diagram, stars in different evolutionary phases \"clump\" in different regions. There is indeed then a correlation between position in the HR diagram and luminosity class/evolutionary phase.\n",
    "\n",
    "![HR Diagram](https://upload.wikimedia.org/wikipedia/commons/6/6b/HRDiagram.png)\n",
    "Image: Wikipedia"
   ]
  },
  {
   "cell_type": "markdown",
   "id": "0839f3b6",
   "metadata": {},
   "source": [
    "You have been provided with three files: `category_dataset.csv` contains a bunch of $(x,y)$ coordinates with each point having an associated _category_ (in abstract terms, either 0 or 1). You will use this as a dataset for training your classifier.\n",
    "\n",
    "Then, we'll look at what happens if you ask your network to make a prediction on an $(x,y)$ pair that is very different from what it's already seen (`unseen_test.csv`). \n",
    "\n",
    "Finally, I will ask you to train with a dataset that contains both of $(x,y)$ and see how the model's predictability changes further(`extended_training.csv`)."
   ]
  },
  {
   "cell_type": "code",
   "execution_count": null,
   "id": "ba3845a5",
   "metadata": {
    "scrolled": true
   },
   "outputs": [],
   "source": [
    "import keras\n",
    "import numpy as np\n",
    "import pandas as pd\n",
    "import matplotlib.pyplot as plt\n",
    "\n",
    "from keras.models import Sequential\n",
    "from keras.layers import Dense\n",
    "\n",
    "# A method that lets you easily split a dataset into \"training\" and \"test\" subsets\n",
    "from sklearn.model_selection import train_test_split"
   ]
  },
  {
   "cell_type": "code",
   "execution_count": null,
   "id": "32650785",
   "metadata": {},
   "outputs": [],
   "source": [
    "plt.rcParams['text.usetex'] = True\n",
    "plt.rcParams['font.family'] = 'serif'\n",
    "plt.rcParams['font.serif'] = ['Computer Modern']"
   ]
  },
  {
   "cell_type": "code",
   "execution_count": null,
   "id": "c2dc7710",
   "metadata": {},
   "outputs": [],
   "source": [
    "dataset = pd.read_csv('./data/category_dataset.csv')\n",
    "dataset"
   ]
  },
  {
   "cell_type": "markdown",
   "id": "3f46bec5",
   "metadata": {},
   "source": [
    "You may be wondering what this dataset is\n",
    "\n",
    "![Block structure](./true_distrib.png)"
   ]
  },
  {
   "cell_type": "code",
   "execution_count": null,
   "id": "b25f2da6",
   "metadata": {
    "scrolled": false
   },
   "outputs": [],
   "source": [
    "coords = dataset.drop('category', axis=1) # input\n",
    "labels = dataset['category'] # true output\n",
    "\n",
    "coords"
   ]
  },
  {
   "cell_type": "markdown",
   "id": "af7aa4d1",
   "metadata": {},
   "source": [
    "You need a `Model` class for the network architecture. The class [Sequential](https://keras.io/api/models/sequential/) in `keras` gives you the bones for a simple one that is going to be relevant for us. `Sequential` because one layer is passed on to after the other. For our _feedforward_ or _fully connected_ neural network, this is going to be all we need."
   ]
  },
  {
   "cell_type": "code",
   "execution_count": null,
   "id": "15d96814",
   "metadata": {},
   "outputs": [],
   "source": [
    "network = Sequential()\n",
    "\n",
    "network.add(keras.Input(shape=(2,)))\n",
    "network.add(Dense(6, activation='relu'))\n",
    "network.add(Dense(8, activation='relu'))\n",
    "\n",
    "network.add(Dense(1, activation='sigmoid'))"
   ]
  },
  {
   "cell_type": "code",
   "execution_count": null,
   "id": "3308a4e3",
   "metadata": {},
   "outputs": [],
   "source": [
    "network.compile(optimizer='adam', loss=keras.losses.BinaryCrossentropy(from_logits=False),\n",
    "                metrics=['accuracy', keras.metrics.BinaryAccuracy()])"
   ]
  },
  {
   "cell_type": "markdown",
   "id": "ed963e20",
   "metadata": {},
   "source": [
    "The optimizer's role is to find an optimal path to minimizing the loss function. ADAM is a superior choice (compared to Stochastic Gradient Descent). We encourage to figure out why! (Hint: It's ADAptive. You should read about vanishing/exploding gradients problem.)"
   ]
  },
  {
   "cell_type": "code",
   "execution_count": null,
   "id": "25d5b3ef",
   "metadata": {
    "scrolled": true
   },
   "outputs": [],
   "source": [
    "network.summary()"
   ]
  },
  {
   "cell_type": "markdown",
   "id": "0cc1ae23",
   "metadata": {},
   "source": [
    "Apparently, the network summary doesn't show the input shape."
   ]
  },
  {
   "cell_type": "code",
   "execution_count": null,
   "id": "bfb97401",
   "metadata": {
    "scrolled": true
   },
   "outputs": [],
   "source": [
    "history = network.fit(coords, labels, batch_size=250, epochs=100)"
   ]
  },
  {
   "cell_type": "code",
   "execution_count": null,
   "id": "b8df8779",
   "metadata": {},
   "outputs": [],
   "source": [
    "history.history.keys()"
   ]
  },
  {
   "cell_type": "code",
   "execution_count": null,
   "id": "dd4be5c2",
   "metadata": {},
   "outputs": [],
   "source": [
    "fig2, ax2 = plt.subplots(1, 2, figsize=(12,6))\n",
    "\n",
    "ax2[1].plot(history.history['binary_accuracy'])\n",
    "ax2[0].plot(history.history['loss'])\n",
    "for ax in ax2:\n",
    "    ax.set_xlabel('Epoch')\n",
    "ax2[1].set_ylabel('Binary Accuracy')\n",
    "ax2[0].set_ylabel('Loss Function - $\\mathcal{L}$')"
   ]
  },
  {
   "cell_type": "markdown",
   "id": "1f76f47f",
   "metadata": {},
   "source": [
    "I want to see what kind of predictions the network makes across the whole range of $x,y \\in [-1, 1]$. Plotting that would make it easy to see what the model is actually learning."
   ]
  },
  {
   "cell_type": "code",
   "execution_count": null,
   "id": "1eceba4c",
   "metadata": {},
   "outputs": [],
   "source": [
    "def make_square_grid(min_val=-2, max_val=2):\n",
    "    x = np.linspace(min_val, max_val, 100)\n",
    "    y = x\n",
    "    XX, YY = np.meshgrid(x, y, indexing='xy')\n",
    "\n",
    "    xx = XX.flatten()\n",
    "    yy = YY.flatten()\n",
    "    return pd.DataFrame(data = {'x': xx, 'y': yy})"
   ]
  },
  {
   "cell_type": "code",
   "execution_count": null,
   "id": "85b001b6",
   "metadata": {},
   "outputs": [],
   "source": [
    "grid_to_evaluate = make_square_grid(-1, 1)\n",
    "\n",
    "grid_to_evaluate"
   ]
  },
  {
   "cell_type": "code",
   "execution_count": null,
   "id": "9dd35440",
   "metadata": {
    "scrolled": true
   },
   "outputs": [],
   "source": [
    "predictions = network.predict(grid_to_evaluate)"
   ]
  },
  {
   "cell_type": "markdown",
   "id": "491ade61",
   "metadata": {},
   "source": [
    "I also like to test a few examples individually for personal satisfaction, lol"
   ]
  },
  {
   "cell_type": "code",
   "execution_count": null,
   "id": "2010bcd0",
   "metadata": {
    "scrolled": true
   },
   "outputs": [],
   "source": [
    "lol = network.predict(np.array([[0.5, 0.5], [-0.5, 0.5]]))"
   ]
  },
  {
   "cell_type": "code",
   "execution_count": null,
   "id": "78fa6567",
   "metadata": {},
   "outputs": [],
   "source": [
    "lol"
   ]
  },
  {
   "cell_type": "code",
   "execution_count": null,
   "id": "3ff890b4",
   "metadata": {},
   "outputs": [],
   "source": [
    "np.unique(predictions)"
   ]
  },
  {
   "cell_type": "code",
   "execution_count": null,
   "id": "f2c4be0a",
   "metadata": {},
   "outputs": [],
   "source": [
    "grid_vals = predictions.reshape((100, 100))\n",
    "#img = XX[:,:, np.newaxis]\n",
    "#img[:,:,0] = grid_vals"
   ]
  },
  {
   "cell_type": "code",
   "execution_count": null,
   "id": "b322378d",
   "metadata": {},
   "outputs": [],
   "source": [
    "plt.imshow(grid_vals, cmap='RdYlBu')"
   ]
  },
  {
   "cell_type": "markdown",
   "id": "6de31e3e",
   "metadata": {},
   "source": [
    "So far so good. But how well does a network perform when it comes to making predictions for input that differs from the training data."
   ]
  },
  {
   "cell_type": "code",
   "execution_count": null,
   "id": "1896d521",
   "metadata": {},
   "outputs": [],
   "source": [
    "larger = make_square_grid(-2, 2)"
   ]
  },
  {
   "cell_type": "markdown",
   "id": "d3bd83d3",
   "metadata": {},
   "source": [
    "Data points from the true distribution that I didn't include in the first dataset."
   ]
  },
  {
   "cell_type": "code",
   "execution_count": null,
   "id": "859b438b",
   "metadata": {},
   "outputs": [],
   "source": [
    "unseen_data = pd.read_csv('./data/unseen_test.csv')"
   ]
  },
  {
   "cell_type": "code",
   "execution_count": null,
   "id": "bb4e101c",
   "metadata": {},
   "outputs": [],
   "source": [
    "grid_vals2 = network.predict(larger).reshape((100, 100))"
   ]
  },
  {
   "cell_type": "code",
   "execution_count": null,
   "id": "009ee826",
   "metadata": {
    "scrolled": false
   },
   "outputs": [],
   "source": [
    "fig, axes = plt.subplots(1, 2, figsize=(12, 6))\n",
    "\n",
    "axes[0].scatter(unseen_data['x'], unseen_data['y'], c=unseen_data['category'], ec='k', cmap='RdYlBu')\n",
    "axes[1].imshow(grid_vals2, cmap='RdYlBu', extent=(-2, 2, -2, 2))\n",
    "plt.tight_layout()"
   ]
  },
  {
   "cell_type": "markdown",
   "id": "81c24002",
   "metadata": {},
   "source": [
    "It seems that that the model expected the same behavior to continue.\n",
    "\n",
    "Here we had just two 2 coordinates and two possible categories. How wrong could the model go if we had hundred input variables and 15 different categories? "
   ]
  },
  {
   "cell_type": "code",
   "execution_count": null,
   "id": "5efc57ea",
   "metadata": {},
   "outputs": [],
   "source": [
    "unseen_coords = unseen_data.drop('category', axis=1)\n",
    "unseen_labels = unseen_data['category']"
   ]
  },
  {
   "cell_type": "markdown",
   "id": "b2642176",
   "metadata": {},
   "source": [
    "Let's try training once again, but only with the _outer_ region, cutting out the inner $x, y \\in [-1, 1]$"
   ]
  },
  {
   "cell_type": "code",
   "execution_count": null,
   "id": "2ac5797b",
   "metadata": {
    "scrolled": true
   },
   "outputs": [],
   "source": [
    "hist2 = network.fit(unseen_coords, unseen_labels, batch_size=250, epochs=50)"
   ]
  },
  {
   "cell_type": "code",
   "execution_count": null,
   "id": "f36344a1",
   "metadata": {},
   "outputs": [],
   "source": [
    "new_pred = network.predict(unseen_coords)"
   ]
  },
  {
   "cell_type": "code",
   "execution_count": null,
   "id": "0128fbec",
   "metadata": {},
   "outputs": [],
   "source": [
    "fig2, ax2 = plt.subplots(figsize=(6,6))\n",
    "plt.scatter(unseen_coords['x'], unseen_coords['y'], c=new_pred, ec='w', lw=0.4, cmap='RdYlBu')"
   ]
  },
  {
   "cell_type": "markdown",
   "id": "ee180222",
   "metadata": {},
   "source": [
    "I wonder how intact is the _inner_ region. Let's see for a second"
   ]
  },
  {
   "cell_type": "code",
   "execution_count": null,
   "id": "01dec75b",
   "metadata": {},
   "outputs": [],
   "source": [
    "new_prediction = network.predict(larger).reshape((100,100))\n",
    "\n",
    "plt.imshow(new_prediction, cmap='RdYlBu', extent=(-2, 2, -2, 2))"
   ]
  },
  {
   "cell_type": "markdown",
   "id": "e3282045",
   "metadata": {},
   "source": [
    "This may at first seem demotivating as to how unreliable our (rather simple) neural network is for such a trivial classification task. I would remark that some neural network architectures are more suitable for learning different kinds of information. For example, convolutional neural networks are very useful in image recognition. If you have the image of a handwritten \"6\", a CNN can pick up its pattern and identify it even if you rotate the image for instance.\n",
    "\n",
    "Note that you aren't ever restricted to using _just_ a convolutional architecture or a recurrent neural network or some other _named_ class. A real problem may require a combination or even a custom design. \n",
    "\n",
    "One of the recent, most powerful use of machine learning in science has been [AlphaFold](https://www.nature.com/articles/s41586-021-03819-2), which was a highlighted breakthrough in protein structure prediction. Look at how specialized their architecture is.  "
   ]
  },
  {
   "cell_type": "markdown",
   "id": "c028f953",
   "metadata": {},
   "source": [
    "## Questions:\n",
    "1. If you actually were to implement such a method for classifying stars, what other things apart from $B-V$ and $V$ would you consider to diminish wrong classifications? (Whether it be additional info from photometry, or any physically motivated idea)\n",
    "2. Can you guess why ReLU is often a superior activation function compared to sigmoid, for example? Also, could the ReLU be improved? (Hint: Yes!)\n",
    "3. Is machine learning the optimal solution for this problem?\n",
    "\n",
    "## Homework:\n",
    "Take the `extended_training.csv` dataset. It contains $(x,y)$ values covering both the regions we encountered. Train the network with it from scratch. Now try to see what the network predicts for values extending even further out, i.e. $(-3,-3)$ to $(3, 3)$. Does it pick up the recurring pattern this time? Do the results suprise you?\n",
    "\n",
    "Try truncating the training at 20 epochs or less. Does that help? Were we just overfitting?\n",
    "\n",
    "If you want to try things for fun to deepen your understanding: What's the effect of changing the number of hidden layers or neurons within a single layer. Intuitively, how is adding more cells to a layer different from more layers in a sequence? (Think of the algebra, maybe?)"
   ]
  },
  {
   "cell_type": "markdown",
   "id": "9481e864",
   "metadata": {},
   "source": [
    "## Additional Resources\n",
    "\n",
    "* [Deep Learning for Physics Research](https://www.google.de/books/edition/Deep_Learning_For_Physics_Research/8dM3EAAAQBAJ?hl=en&gbpv=1&printsec=frontcover)\n",
    "\n",
    "* Lecture series [Machine Learning for Physicists](https://youtube.com/playlist?list=PLemsnf33Vij4eFWwtoQCrt9AHjLe3uo9_&si=INosux5cpQhzNs-5) taught by Florian Marquardt \n",
    "    * Relevant Jupyter notebooks can be found at [the associated GitHub repository](https://github.com/FlorianMarquardt/machine-learning-for-physicists) "
   ]
  },
  {
   "cell_type": "code",
   "execution_count": null,
   "id": "07fc9e48",
   "metadata": {},
   "outputs": [],
   "source": []
  }
 ],
 "metadata": {
  "kernelspec": {
   "display_name": "Python 3 (ipykernel)",
   "language": "python",
   "name": "python3"
  },
  "language_info": {
   "codemirror_mode": {
    "name": "ipython",
    "version": 3
   },
   "file_extension": ".py",
   "mimetype": "text/x-python",
   "name": "python",
   "nbconvert_exporter": "python",
   "pygments_lexer": "ipython3",
   "version": "3.10.6"
  }
 },
 "nbformat": 4,
 "nbformat_minor": 5
}
